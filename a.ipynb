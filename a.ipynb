{
 "cells": [
  {
   "cell_type": "code",
   "execution_count": 25,
   "metadata": {},
   "outputs": [
    {
     "ename": "ValueError",
     "evalue": "invalid literal for int() with base 10: ''",
     "output_type": "error",
     "traceback": [
      "\u001b[1;31m---------------------------------------------------------------------------\u001b[0m",
      "\u001b[1;31mValueError\u001b[0m                                Traceback (most recent call last)",
      "Cell \u001b[1;32mIn [25], line 1\u001b[0m\n\u001b[1;32m----> 1\u001b[0m n \u001b[39m=\u001b[39m \u001b[39mint\u001b[39;49m(\u001b[39minput\u001b[39;49m(\u001b[39m\"\u001b[39;49m\u001b[39mEnter your number = \u001b[39;49m\u001b[39m\"\u001b[39;49m))\n\u001b[0;32m      3\u001b[0m \u001b[39mfor\u001b[39;00m i \u001b[39min\u001b[39;00m \u001b[39mrange\u001b[39m(n\u001b[39m+\u001b[39m\u001b[39m1\u001b[39m):\n\u001b[0;32m      5\u001b[0m     \u001b[39mfor\u001b[39;00m j \u001b[39min\u001b[39;00m \u001b[39mrange\u001b[39m(n\u001b[39m-\u001b[39mi):\n",
      "\u001b[1;31mValueError\u001b[0m: invalid literal for int() with base 10: ''"
     ]
    }
   ],
   "source": [
    "n = int(input(\"Enter your number = \"))\n",
    "\n",
    "for i in range(n+1):\n",
    "\n",
    "    for j in range(n-i):\n",
    "        print(\" \", end='')\n",
    "\n",
    "    for j in range(2*i-1):\n",
    "\n",
    "        print(j, end='')\n",
    "\n",
    "    print('\\n')\n"
   ]
  },
  {
   "cell_type": "code",
   "execution_count": null,
   "metadata": {},
   "outputs": [],
   "source": [
    "row = int(input(\"Enter number of rows: \"))\n",
    "\n",
    "space = 36\n",
    "\n",
    "# empty list containg all 0s\n",
    "a = [0] * 20\n",
    "\n",
    "\n",
    "print(\"\\n\\t\\t\\t\\t*** PASCAL TRIANGLE ***\\n\")\n",
    "for i in range(row):\n",
    "\n",
    "    for spi in range(1, space+1):\n",
    "        print(\" \", end=\"\")\n",
    "\n",
    "    a[i] = 1\n",
    "\n",
    "    for j in range(i+1):\n",
    "        print('%6d' % (a[j]), end=\"\")\n",
    "\n",
    "    for j in range(i, 0, -1):\n",
    "        a[j] = a[j] + a[j-1]\n",
    "\n",
    "    space = space - 3\n",
    "\n",
    "    print()\n"
   ]
  },
  {
   "cell_type": "markdown",
   "metadata": {},
   "source": [
    "\n"
   ]
  },
  {
   "cell_type": "code",
   "execution_count": null,
   "metadata": {},
   "outputs": [],
   "source": [
    "arr = [1, 2, 3, 4, 5, 6]\n"
   ]
  },
  {
   "cell_type": "code",
   "execution_count": null,
   "metadata": {},
   "outputs": [],
   "source": [
    "list1 = [\"flower\", \"flow\", \"flight\"]\n",
    "result = dict()\n",
    "# count=0\n",
    "# list1=list1[0]\n",
    "# list2=list1[1]\n",
    "# list3=list1[2]\n",
    "\n",
    "for element in list1:\n",
    "    # for j in element:\n",
    "    if j in element:\n",
    "        result[j] += 1\n",
    "    else:\n",
    "        result[j] = 1\n",
    "\n",
    "    print(result)\n"
   ]
  },
  {
   "cell_type": "code",
   "execution_count": null,
   "metadata": {},
   "outputs": [],
   "source": [
    "string = \"babad\"\n",
    "\n",
    "for i in s:\n",
    "    if i in s == l:\n",
    "        print(i)\n"
   ]
  },
  {
   "cell_type": "code",
   "execution_count": null,
   "metadata": {},
   "outputs": [],
   "source": [
    "k = 2\n",
    "num = \"143729\"\n",
    "for i in num:\n",
    "\n",
    "    print(i)\n"
   ]
  },
  {
   "cell_type": "code",
   "execution_count": null,
   "metadata": {},
   "outputs": [],
   "source": [
    "a = [-2, 1, -3, 4, -1, 2, 1, -5, 4]\n",
    "n = sorted(a)\n",
    "print(n)\n",
    "p = sum(n)\n",
    "print(p)\n"
   ]
  },
  {
   "cell_type": "code",
   "execution_count": null,
   "metadata": {},
   "outputs": [],
   "source": [
    "height = [11111, 2, 3, 4, 4, 5, 66, 5, 9, 0, 5, 7]\n",
    "\n",
    "max_num = height[0]\n",
    "count = 0\n",
    "for i in range(len(height)):\n",
    "\n",
    "    if height[i] > max_num:\n",
    "        max_num = height[i]\n",
    "        # print(max_num)\n",
    "    if height[i] > max_num:\n",
    "        max_num_2 = height[i]\n",
    "        # print(max_num_2)\n",
    "start = height.index(max_num)\n",
    "end = height.index(max_num_2)\n",
    "\n",
    "# if end == 1:\n",
    "\n",
    "b = len(height[start: end])\n",
    "\n",
    "h = min(max_num, max_num_2)\n",
    "\n",
    "water_area = b * h\n",
    "print(water_area)\n"
   ]
  },
  {
   "cell_type": "code",
   "execution_count": null,
   "metadata": {},
   "outputs": [],
   "source": [
    "height = [11111, 2, 3, 4, 4, 5, 66, 5, 9, 0, 5, 7]\n",
    "l = 0\n",
    "r = len(height)-1\n",
    "arealist = []\n",
    "\n",
    "while l != r:\n",
    "\n",
    "    area = (r-l) * min(height[l], height[r])\n",
    "    arealist.append(area)\n",
    "\n",
    "    if height[l] < height[r]:\n",
    "        l += 1\n",
    "\n",
    "    else:\n",
    "        r += -1\n",
    "\n",
    "print(max(arealist))\n"
   ]
  },
  {
   "cell_type": "code",
   "execution_count": null,
   "metadata": {},
   "outputs": [],
   "source": [
    "s = \"leetcode\"\n",
    "wordDict = [\"lee\", \"code\"]\n",
    "\n",
    "for i in range(len(s)):\n",
    "    pass\n",
    "for j in range(len(wordDict)):\n",
    "    # for k in j:\n",
    "    pass\n",
    "if i[s] == j[wordDict]:\n",
    "    print(True)\n",
    "else:\n",
    "    print(False)\n",
    "\n",
    "\n",
    "# while i==k or i!=k:\n",
    "#   if i == k or i != k:\n",
    "#     if i == False:\n",
    "\n",
    "#          print(False)\n",
    "#     else :\n",
    "#         print(True)\n",
    "# i+=i\n"
   ]
  },
  {
   "cell_type": "code",
   "execution_count": null,
   "metadata": {},
   "outputs": [],
   "source": [
    "a = [1, 2, 3, 4]\n",
    "b = [1, 2, 3]\n",
    "c = list(zip(a+b))\n",
    "print(c)\n",
    "\n",
    "for i in a:\n",
    "    pass\n",
    "\n",
    "for j in b:\n",
    "    d = i + j\n",
    "    print(d)"
   ]
  },
  {
   "cell_type": "code",
   "execution_count": null,
   "metadata": {},
   "outputs": [],
   "source": [
    "# 85. Maximal Rectangle\n",
    "\n",
    "matrix = [[1, 0, 1, 0, 0],\n",
    "          [1, 0, 1, 1, 1],\n",
    "          [1, 1, 1, 1, 1],\n",
    "          [1, 0, 0, 1, 0]]\n",
    "\n",
    "num_col = len(matrix[0])\n",
    "num_row = len(matrix)\n",
    "\n",
    "sum_matrix = []\n",
    "max_rec = []\n",
    "\n",
    "\n",
    "for row in range(num_col):\n",
    "    sum = 0  \n",
    "    left = 0\n",
    "    right = num_col-1\n",
    "\n",
    "    for col in range(num_row):\n",
    "\n",
    "        if matrix[col][row] == 0:\n",
    "\n",
    "            sum = 0\n",
    "        sum += matrix[col][row]\n",
    "        # print(sum,end=\" \")\n",
    "\n",
    "    sum_matrix.append(sum)\n",
    "\n",
    "#     while left != right:\n",
    "#         area=(left - right) * min(sum_matrix[left] , sum_matrix[right])\n",
    "#         max_rec.append(area)\n",
    "#\n",
    "#         if (sum[left] < sum[right]):\n",
    "#             left += 1\n",
    "#         else:\n",
    "#             right -= 1\n",
    "#\n",
    "    print(sum_matrix)\n",
    "    break\n",
    "# print(max(max_rec))\n"
   ]
  },
  {
   "cell_type": "code",
   "execution_count": null,
   "metadata": {},
   "outputs": [],
   "source": [
    "matrix = [[1, 0, 1, 0, 0],\n",
    "          [1, 0, 1, 1, 1],\n",
    "          [1, 1, 1, 1, 1],\n",
    "          [1, 0, 0, 1, 0]]\n",
    "\n",
    "l = len(matrix)\n",
    "a = []\n",
    "count = 0\n",
    "\n",
    "for i in range(l):\n",
    "    a += matrix[i]\n",
    "    # a.append(count)\n",
    "    print(a)\n"
   ]
  },
  {
   "cell_type": "code",
   "execution_count": null,
   "metadata": {},
   "outputs": [
    {
     "name": "stdout",
     "output_type": "stream",
     "text": [
      "1\n",
      "1\n",
      "1\n",
      "2\n",
      "3\n",
      "3\n"
     ]
    }
   ],
   "source": [
    "a = [1, 1, 1, 2, 3, 3]\n",
    "prev = None\n",
    "for i in a:\n",
    "    if a == prev:\n",
    "        pass\n",
    "    else:\n",
    "        print(i)\n",
    "    prev = i"
   ]
  },
  {
   "cell_type": "code",
   "execution_count": 69,
   "metadata": {},
   "outputs": [
    {
     "ename": "IndexError",
     "evalue": "string index out of range",
     "output_type": "error",
     "traceback": [
      "\u001b[1;31m---------------------------------------------------------------------------\u001b[0m",
      "\u001b[1;31mIndexError\u001b[0m                                Traceback (most recent call last)",
      "Cell \u001b[1;32mIn [69], line 4\u001b[0m\n\u001b[0;32m      1\u001b[0m basket \u001b[39m=\u001b[39m [\u001b[39m\"\u001b[39m\u001b[39mBanana\u001b[39m\u001b[39m\"\u001b[39m, [\u001b[39m\"\u001b[39m\u001b[39mApples\u001b[39m\u001b[39m\"\u001b[39m, [\u001b[39m\"\u001b[39m\u001b[39mOranges\u001b[39m\u001b[39m\"\u001b[39m], \u001b[39m\"\u001b[39m\u001b[39mBlueberries\u001b[39m\u001b[39m\"\u001b[39m]]\n\u001b[0;32m      2\u001b[0m \u001b[39m# access \"Oranges\" and print it:\u001b[39;00m\n\u001b[0;32m      3\u001b[0m \u001b[39m# You will find the answer if you scroll down to the bottom, but attempt it yourself first!\u001b[39;00m\n\u001b[1;32m----> 4\u001b[0m \u001b[39mprint\u001b[39m(basket[\u001b[39m0\u001b[39;49m][\u001b[39m1\u001b[39;49m][\u001b[39m1\u001b[39;49m])\n",
      "\u001b[1;31mIndexError\u001b[0m: string index out of range"
     ]
    }
   ],
   "source": [
    "basket = [\"Banana\", [\"Apples\", [\"Oranges\"], \"Blueberries\"]]\n",
    "# access \"Oranges\" and print it:\n",
    "# You will find the answer if you scroll down to the bottom, but attempt it yourself first!\n",
    "print(basket[0][1][1])"
   ]
  },
  {
   "cell_type": "code",
   "execution_count": 70,
   "metadata": {},
   "outputs": [
    {
     "name": "stdout",
     "output_type": "stream",
     "text": [
      "\n",
      "Creating our own decorators\n",
      "***************\n",
      "Just callin!\n",
      "***************\n"
     ]
    }
   ],
   "source": [
    "print(\"\\nCreating our own decorators\")\n",
    "def my_decorator(func):               #<-my decorator(super charger), accepts higher order function\n",
    "  def wrap_func():\n",
    "    print(\"***************\")\n",
    "    func()\n",
    "    print(\"***************\")\n",
    "\n",
    "  return wrap_func                    #-> should have returned just reference, but since it is used as a decorater, it's return statement will automatically call function\n",
    "\n",
    "@my_decorator\n",
    "def callll():\n",
    "  print(\"Just callin!\") #<-sequence of thier run in unstable\n",
    "\n",
    "callll()"
   ]
  },
  {
   "cell_type": "code",
   "execution_count": 114,
   "metadata": {},
   "outputs": [
    {
     "data": {
      "text/plain": [
       "[76, 111, 776, 119, 105, 115]"
      ]
     },
     "execution_count": 114,
     "metadata": {},
     "output_type": "execute_result"
    }
   ],
   "source": [
    "s = 'L' + chr(246) + 'wis'\n",
    "t = 'L' + chr(111) + chr(776) + 'wis'\n",
    "s,t     #both looks the same but are actually different and won't match\n",
    "# s==t\n",
    "[ord(s) for s in s]\n",
    "[ord(t) for t in t] "
   ]
  },
  {
   "cell_type": "code",
   "execution_count": 131,
   "metadata": {},
   "outputs": [
    {
     "name": "stdout",
     "output_type": "stream",
     "text": [
      "{5: ['parth', 'helly', 'nidhi'], 7: ['bhoomit']}\n"
     ]
    }
   ],
   "source": [
    "users=['parth', 'helly', 'nidhi', 'bhoomit']\n",
    "d = {}\n",
    "for user in users:\n",
    "    key = len(user)\n",
    "    d.setdefault(key,[]).append(user)       #set default key,value just as defaultdict does\n",
    "print(d)"
   ]
  },
  {
   "cell_type": "code",
   "execution_count": 134,
   "metadata": {},
   "outputs": [
    {
     "name": "stdout",
     "output_type": "stream",
     "text": [
      "defaultdict(<class 'list'>, {7: ['bhoomit'], 5: ['parth', 'helly', 'nidhi', 'uttam', 'shlok'], 4: ['zeal'], 8: ['vaikunth']})\n"
     ]
    }
   ],
   "source": [
    "users = ['bhoomit', 'parth', 'helly', 'nidhi', 'zeal', 'uttam', 'vaikunth', 'shlok']\n",
    "\n",
    "from collections import defaultdict\n",
    "d = defaultdict(list)\n",
    "for user in users:\n",
    "    key = len(user)\n",
    "    d[key].append(user)\n",
    "print(d)\n"
   ]
  },
  {
   "cell_type": "code",
   "execution_count": 10,
   "metadata": {},
   "outputs": [],
   "source": [
    "def Outer(self):\n",
    "    print(\"outer\")\n",
    "    def inner(self):\n",
    "        return \"iiner\"\n",
    "    "
   ]
  },
  {
   "cell_type": "code",
   "execution_count": 119,
   "metadata": {},
   "outputs": [],
   "source": [
    "def demo(x:int=1, y:int=1, z:str=5) -> int:\n",
    "    z = int(z)\n",
    "    return x + y + z\n",
    "\n",
    "\n"
   ]
  },
  {
   "cell_type": "code",
   "execution_count": 173,
   "metadata": {},
   "outputs": [
    {
     "data": {
      "text/plain": [
       "'mhbhjbnk'"
      ]
     },
     "execution_count": 173,
     "metadata": {},
     "output_type": "execute_result"
    }
   ],
   "source": [
    "ans =demo()\n"
   ]
  },
  {
   "cell_type": "code",
   "execution_count": 118,
   "metadata": {},
   "outputs": [
    {
     "name": "stdout",
     "output_type": "stream",
     "text": [
      "7\n"
     ]
    }
   ],
   "source": [
    "print(ans)"
   ]
  },
  {
   "cell_type": "code",
   "execution_count": 162,
   "metadata": {},
   "outputs": [
    {
     "name": "stdout",
     "output_type": "stream",
     "text": [
      "<class 'list'>\n"
     ]
    }
   ],
   "source": [
    "a=[1,2,3,3,4,5,6,4]\n",
    "def function1():\n",
    "    return a\n",
    "b=function1()\n",
    "print(type(b))"
   ]
  },
  {
   "cell_type": "code",
   "execution_count": 169,
   "metadata": {},
   "outputs": [
    {
     "name": "stdout",
     "output_type": "stream",
     "text": [
      "<generator object function2 at 0x0000020951023B50>\n"
     ]
    }
   ],
   "source": [
    "def function2(c):\n",
    "    print(\"hello\")\n",
    "    yield 1\n",
    "    print(\"world\")\n",
    "s=function2(10)\n",
    "print((s))"
   ]
  },
  {
   "cell_type": "code",
   "execution_count": 171,
   "metadata": {},
   "outputs": [
    {
     "name": "stdout",
     "output_type": "stream",
     "text": [
      "world\n"
     ]
    },
    {
     "ename": "StopIteration",
     "evalue": "",
     "output_type": "error",
     "traceback": [
      "\u001b[1;31m---------------------------------------------------------------------------\u001b[0m",
      "\u001b[1;31mStopIteration\u001b[0m                             Traceback (most recent call last)",
      "Cell \u001b[1;32mIn [171], line 1\u001b[0m\n\u001b[1;32m----> 1\u001b[0m \u001b[39mnext\u001b[39;49m(s)\n",
      "\u001b[1;31mStopIteration\u001b[0m: "
     ]
    }
   ],
   "source": [
    "next(s)"
   ]
  },
  {
   "cell_type": "code",
   "execution_count": null,
   "metadata": {},
   "outputs": [],
   "source": []
  }
 ],
 "metadata": {
  "kernelspec": {
   "display_name": "Python 3",
   "language": "python",
   "name": "python3"
  },
  "language_info": {
   "codemirror_mode": {
    "name": "ipython",
    "version": 3
   },
   "file_extension": ".py",
   "mimetype": "text/x-python",
   "name": "python",
   "nbconvert_exporter": "python",
   "pygments_lexer": "ipython3",
   "version": "3.10.5"
  },
  "orig_nbformat": 4,
  "vscode": {
   "interpreter": {
    "hash": "c8251b9bc52378f6afdf5d81e6c7884f9d71e1e5d8da0db69c40a14f28e8a63f"
   }
  }
 },
 "nbformat": 4,
 "nbformat_minor": 2
}
